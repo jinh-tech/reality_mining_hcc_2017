{
 "cells": [
  {
   "cell_type": "code",
   "execution_count": 14,
   "metadata": {
    "collapsed": true
   },
   "outputs": [],
   "source": [
    "import numpy as np\n",
    "import pandas as pd\n",
    "import scipy.io"
   ]
  },
  {
   "cell_type": "code",
   "execution_count": 15,
   "metadata": {
    "collapsed": false
   },
   "outputs": [
    {
     "name": "stdout",
     "output_type": "stream",
     "text": [
      "Loading file. Takes time\n"
     ]
    }
   ],
   "source": [
    "matlab_filename = \"realitymining.mat\"\n",
    "print \"Loading file. Takes time\"\n",
    "matlab_obj = scipy.io.loadmat(matlab_filename)\n",
    "friends = np.nan_to_num(matlab_obj['network']['friends'][0,0])"
   ]
  },
  {
   "cell_type": "code",
   "execution_count": 16,
   "metadata": {
    "collapsed": false
   },
   "outputs": [],
   "source": [
    "data = np.loadtxt(\"call_log.csv\",delimiter=',',skiprows=1)\n",
    "asym = np.loadtxt(\"asym_index.txt\")"
   ]
  },
  {
   "cell_type": "code",
   "execution_count": 18,
   "metadata": {
    "collapsed": false
   },
   "outputs": [
    {
     "name": "stdout",
     "output_type": "stream",
     "text": [
      "No of time symmetric friends call each other = 958 , 826\n"
     ]
    }
   ],
   "source": [
    "freq_one_way = 0\n",
    "freq_other_way = 0\n",
    "for i in range(0,94):\n",
    "    for j in range(i+1,94):\n",
    "        if friends[i,j] == 1:\n",
    "            for k in range(0,data.shape[0]):\n",
    "                if i == data[k][0] and j == data[k][1]:\n",
    "                    freq_one_way += 1\n",
    "                if j == data[k][0] and i == data[k][1]:\n",
    "                    freq_other_way += 1\n",
    "print \"No of time symmetric friends call each other = %d , %d\" %(freq_one_way,freq_other_way)"
   ]
  },
  {
   "cell_type": "code",
   "execution_count": 11,
   "metadata": {
    "collapsed": false
   },
   "outputs": [
    {
     "name": "stdout",
     "output_type": "stream",
     "text": [
      "No. of time good friends call bad friends 625\n",
      "No. of time bad friends call good friends 386\n"
     ]
    }
   ],
   "source": [
    "freq_good = 0\n",
    "freq_bad = 0\n",
    "for i in range(0,asym.shape[0]):\n",
    "    for j in range(0,data.shape[0]):\n",
    "        if asym[i][0] == data[j][0] and asym[i][1] == data[j][1]:\n",
    "            freq_good += 1\n",
    "        if asym[i][1] == data[j][0] and asym[i][0] == data[j][1]:\n",
    "            freq_bad += 1\n",
    "            \n",
    "print \"No. of time good friends call bad friends = %d\" %freq_good\n",
    "print \"No. of time bad friends call good friends = %d\" %freq_bad"
   ]
  },
  {
   "cell_type": "code",
   "execution_count": null,
   "metadata": {
    "collapsed": true
   },
   "outputs": [],
   "source": []
  }
 ],
 "metadata": {
  "kernelspec": {
   "display_name": "Python [conda env:hcc]",
   "language": "python",
   "name": "conda-env-hcc-py"
  },
  "language_info": {
   "codemirror_mode": {
    "name": "ipython",
    "version": 2
   },
   "file_extension": ".py",
   "mimetype": "text/x-python",
   "name": "python",
   "nbconvert_exporter": "python",
   "pygments_lexer": "ipython2",
   "version": "2.7.13"
  }
 },
 "nbformat": 4,
 "nbformat_minor": 2
}
