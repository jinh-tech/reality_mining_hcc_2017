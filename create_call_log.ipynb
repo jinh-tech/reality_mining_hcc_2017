{
 "cells": [
  {
   "cell_type": "code",
   "execution_count": 33,
   "metadata": {
    "collapsed": true
   },
   "outputs": [],
   "source": [
    "import scipy.io\n",
    "import numpy as np\n",
    "import pandas as pd"
   ]
  },
  {
   "cell_type": "code",
   "execution_count": 2,
   "metadata": {
    "collapsed": false
   },
   "outputs": [
    {
     "name": "stdout",
     "output_type": "stream",
     "text": [
      "Loading file. Takes time\n"
     ]
    }
   ],
   "source": [
    "matlab_filename = \"realitymining.mat\"\n",
    "print \"Loading file. Takes time\"\n",
    "matlab_obj = scipy.io.loadmat(matlab_filename)"
   ]
  },
  {
   "cell_type": "code",
   "execution_count": 3,
   "metadata": {
    "collapsed": false
   },
   "outputs": [],
   "source": [
    "friends = np.nan_to_num(matlab_obj['network']['friends'][0,0])\n",
    "subsortArray = matlab_obj['network']['sub_sort'][0][0][0]\n",
    "inlab = np.nan_to_num(matlab_obj['network']['lab'][0,0])\n",
    "outlab = np.nan_to_num(matlab_obj['network']['outlab'][0,0])"
   ]
  },
  {
   "cell_type": "code",
   "execution_count": 4,
   "metadata": {
    "collapsed": false
   },
   "outputs": [],
   "source": [
    "count = 0\n",
    "asym = []\n",
    "for i in range(0,94):\n",
    "    for j in range(i+1,94):\n",
    "        if friends[i,j]!=friends[j,i]:\n",
    "            count += 1\n",
    "            if friends[i,j] == 1:\n",
    "                asym.append([i,j])\n",
    "            else:\n",
    "                asym.append([j,i])\n",
    "no_asym = len(asym)\n",
    "# Asym contains indices. Aysm[i][0] is the index of the user that thinks of Asym[i][1] as a friend but Asym[i][1]\n",
    "# does not think of Asym[i][0] as a friend."
   ]
  },
  {
   "cell_type": "code",
   "execution_count": 28,
   "metadata": {
    "collapsed": false
   },
   "outputs": [
    {
     "name": "stdout",
     "output_type": "stream",
     "text": [
      "20\n"
     ]
    }
   ],
   "source": [
    "subjects = matlab_obj['s'][0]['comm']\n",
    "hash_phone = matlab_obj['s'][0]['my_hashedNumber']\n",
    "#subjects = matlab_obj['s'][0]['comm'][3][0][0][6][0][0]\n",
    "#eve = subjects[87][0]\n",
    "#k = 2\n",
    "#print eve[k][5][0][0]"
   ]
  },
  {
   "cell_type": "code",
   "execution_count": 36,
   "metadata": {
    "collapsed": false
   },
   "outputs": [
    {
     "name": "stdout",
     "output_type": "stream",
     "text": [
      "5537\n"
     ]
    }
   ],
   "source": [
    "columns = ['id1','id2','duration','time']\n",
    "call_log = open(\"call_log_rohit.csv\",'aw')\n",
    "count = 0;\n",
    "for i in range(0,94):\n",
    "    for j in range(0,94):\n",
    "        index_i = subsortArray[i]-1\n",
    "        index_j = subsortArray[j]-1\n",
    "        try:\n",
    "            event = subjects[index_i][0]\n",
    "            hash_num = hash_phone[index_j][0][0]\n",
    "            for k in range (0,event.shape[0]):\n",
    "                #and event[k][4][0]==\"Outgoing\"\n",
    "                if event[k][6][0][0] == hash_num and event[k][3][0]==\"Voice call\":\n",
    "                    \n",
    "                    call_log.write(str(i) + ',' + str(j) + ',' + str(event[k][5][0][0]) + ',' +str(event[k][4][0])+ ',' +str(event[k][0][0][0])+ \"\\n\")\n",
    "                    count +=1\n",
    "        except:\n",
    "            continue\n",
    "call_log.close()\n",
    "print count\n",
    "        "
   ]
  }
 ],
 "metadata": {
  "anaconda-cloud": {},
  "kernelspec": {
   "display_name": "Python [conda env:hcc]",
   "language": "python",
   "name": "conda-env-hcc-py"
  },
  "language_info": {
   "codemirror_mode": {
    "name": "ipython",
    "version": 2
   },
   "file_extension": ".py",
   "mimetype": "text/x-python",
   "name": "python",
   "nbconvert_exporter": "python",
   "pygments_lexer": "ipython2",
   "version": "2.7.13"
  }
 },
 "nbformat": 4,
 "nbformat_minor": 2
}
