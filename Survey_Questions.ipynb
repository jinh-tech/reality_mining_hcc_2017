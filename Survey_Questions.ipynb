{
 "cells": [
  {
   "cell_type": "code",
   "execution_count": 1,
   "metadata": {
    "collapsed": true
   },
   "outputs": [],
   "source": [
    "import scipy.io\n",
    "import numpy as np"
   ]
  },
  {
   "cell_type": "code",
   "execution_count": 2,
   "metadata": {
    "collapsed": false
   },
   "outputs": [
    {
     "name": "stdout",
     "output_type": "stream",
     "text": [
      "Loading file. Takes time\n"
     ]
    }
   ],
   "source": [
    "matlab_filename = \"realitymining.mat\"\n",
    "print \"Loading file. Takes time\"\n",
    "matlab_obj = scipy.io.loadmat(matlab_filename)"
   ]
  },
  {
   "cell_type": "code",
   "execution_count": 17,
   "metadata": {
    "collapsed": false
   },
   "outputs": [],
   "source": [
    "friends = np.nan_to_num(matlab_obj['network']['friends'][0,0])\n",
    "subsortArray = matlab_obj['network']['sub_sort'][0][0][0]\n",
    "inlab = np.nan_to_num(matlab_obj['network']['lab'][0,0])\n",
    "outlab = np.nan_to_num(matlab_obj['network']['outlab'][0,0])"
   ]
  },
  {
   "cell_type": "code",
   "execution_count": 18,
   "metadata": {
    "collapsed": false
   },
   "outputs": [],
   "source": [
    "count = 0\n",
    "asym = []\n",
    "for i in range(0,94):\n",
    "    for j in range(i+1,94):\n",
    "        if friends[i,j]!=friends[j,i]:\n",
    "            count += 1\n",
    "            if friends[i,j] == 1:\n",
    "                asym.append([i,j])\n",
    "            else:\n",
    "                asym.append([j,i])\n",
    "no_asym = len(asym)\n",
    "# Asym contains indices. Aysm[i][0] is the index of the user that thinks of Asym[i][1] as a friend but Asym[i][1]\n",
    "# does not think of Asym[i][0] as a friend."
   ]
  },
  {
   "cell_type": "code",
   "execution_count": 19,
   "metadata": {
    "collapsed": false
   },
   "outputs": [
    {
     "name": "stdout",
     "output_type": "stream",
     "text": [
      "3.17857142857\n",
      "28\n"
     ]
    }
   ],
   "source": [
    "#Time (in rating) spent together inlab by friends\n",
    "avg = 0\n",
    "count = 0\n",
    "for i in range(0,94):\n",
    "    for j in range(i+1,94):\n",
    "        if friends[i,j] == friends[j,i] and friends[i,j] == 1:\n",
    "            avg += (inlab[j,i]+inlab[i,j])/2\n",
    "            count += 1\n",
    "print avg/count\n",
    "print count"
   ]
  },
  {
   "cell_type": "code",
   "execution_count": 20,
   "metadata": {
    "collapsed": false
   },
   "outputs": [
    {
     "name": "stdout",
     "output_type": "stream",
     "text": [
      "2.10185185185\n",
      "54\n"
     ]
    }
   ],
   "source": [
    "#Time (in rating) spent together inlab by asymmetric friends\n",
    "avg = 0 \n",
    "count = 0\n",
    "for i in range(0,no_asym):\n",
    "    avg += (inlab[asym[i][0],asym[i][1]]+inlab[asym[i][1],asym[i][0]])/2\n",
    "    count += 1\n",
    "print avg/count\n",
    "print count"
   ]
  },
  {
   "cell_type": "code",
   "execution_count": 21,
   "metadata": {
    "collapsed": false
   },
   "outputs": [
    {
     "name": "stdout",
     "output_type": "stream",
     "text": [
      "3.25\n",
      "28\n"
     ]
    }
   ],
   "source": [
    "#Time (in rating) spent together outlab by friends\n",
    "avg = 0\n",
    "count = 0\n",
    "for i in range(0,94):\n",
    "    for j in range(i+1,94):\n",
    "        if friends[i,j] == friends[j,i] and friends[i,j] == 1:\n",
    "            avg += (outlab[j,i]+outlab[i,j])/2\n",
    "            count += 1\n",
    "print avg/count\n",
    "print count"
   ]
  },
  {
   "cell_type": "code",
   "execution_count": 22,
   "metadata": {
    "collapsed": false
   },
   "outputs": [
    {
     "name": "stdout",
     "output_type": "stream",
     "text": [
      "1.71296296296\n",
      "54\n"
     ]
    }
   ],
   "source": [
    "#Time (in rating) spent together outlab by asymmetric friends\n",
    "avg = 0 \n",
    "count = 0\n",
    "for i in range(0,no_asym):\n",
    "    avg += (outlab[asym[i][0],asym[i][1]]+outlab[asym[i][1],asym[i][0]])/2\n",
    "    count += 1\n",
    "print avg/count\n",
    "print count"
   ]
  },
  {
   "cell_type": "code",
   "execution_count": 23,
   "metadata": {
    "collapsed": false
   },
   "outputs": [
    {
     "name": "stdout",
     "output_type": "stream",
     "text": [
      "1.21428571429\n",
      "28\n"
     ]
    }
   ],
   "source": [
    "# Difference in rating(0-5) of the reported time together in lab for friends\n",
    "avg_diff = 0\n",
    "count = 0\n",
    "for i in range(0,94):\n",
    "    for j in range(i+1,94):\n",
    "        if friends[i,j] == friends[j,i] and friends[i,j] == 1:\n",
    "            avg_diff += abs(inlab[j,i]-inlab[i,j])\n",
    "            count += 1\n",
    "print avg_diff/count\n",
    "print count"
   ]
  },
  {
   "cell_type": "code",
   "execution_count": 24,
   "metadata": {
    "collapsed": false
   },
   "outputs": [
    {
     "name": "stdout",
     "output_type": "stream",
     "text": [
      "1.01851851852\n",
      "54\n"
     ]
    }
   ],
   "source": [
    "# Difference in rating(0-5) of the reported time together in lab for asymmetric friends . Like friend - Dislike friend \n",
    "avg_diff = 0 \n",
    "count = 0\n",
    "for i in range(0,no_asym):\n",
    "    avg_diff += inlab[asym[i][0],asym[i][1]]-inlab[asym[i][1],asym[i][0]]\n",
    "    count += 1\n",
    "print avg_diff/count\n",
    "print count"
   ]
  },
  {
   "cell_type": "code",
   "execution_count": 25,
   "metadata": {
    "collapsed": false
   },
   "outputs": [
    {
     "name": "stdout",
     "output_type": "stream",
     "text": [
      "1.21428571429\n",
      "28\n"
     ]
    }
   ],
   "source": [
    "# Difference in rating(0-5) of the reported time together out lab for friends\n",
    "avg_diff = 0\n",
    "count = 0\n",
    "for i in range(0,94):\n",
    "    for j in range(i+1,94):\n",
    "        if friends[i,j] == friends[j,i] and friends[i,j] == 1:\n",
    "            avg_diff += abs(outlab[j,i]-outlab[i,j])\n",
    "            count += 1\n",
    "print avg_diff/count\n",
    "print count"
   ]
  },
  {
   "cell_type": "code",
   "execution_count": 26,
   "metadata": {
    "collapsed": false
   },
   "outputs": [
    {
     "name": "stdout",
     "output_type": "stream",
     "text": [
      "1.64814814815\n",
      "54\n"
     ]
    }
   ],
   "source": [
    "# Difference in rating(0-5) of the reported time together in lab for asymmetric friends . Like friend - Dislike friend \n",
    "avg_diff = 0 \n",
    "count = 0\n",
    "for i in range(0,no_asym):\n",
    "    avg_diff += outlab[asym[i][0],asym[i][1]]-outlab[asym[i][1],asym[i][0]]\n",
    "    count += 1\n",
    "print avg_diff/count\n",
    "print count"
   ]
  }
 ],
 "metadata": {
  "kernelspec": {
   "display_name": "Python [conda env:hcc]",
   "language": "python",
   "name": "conda-env-hcc-py"
  },
  "language_info": {
   "codemirror_mode": {
    "name": "ipython",
    "version": 2
   },
   "file_extension": ".py",
   "mimetype": "text/x-python",
   "name": "python",
   "nbconvert_exporter": "python",
   "pygments_lexer": "ipython2",
   "version": "2.7.13"
  }
 },
 "nbformat": 4,
 "nbformat_minor": 2
}
