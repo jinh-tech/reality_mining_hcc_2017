{
 "cells": [
  {
   "cell_type": "code",
   "execution_count": 2,
   "metadata": {
    "collapsed": false
   },
   "outputs": [],
   "source": [
    "import scipy.io\n",
    "import numpy as np\n",
    "import scipy.stats"
   ]
  },
  {
   "cell_type": "code",
   "execution_count": 3,
   "metadata": {
    "collapsed": false
   },
   "outputs": [
    {
     "name": "stdout",
     "output_type": "stream",
     "text": [
      "Loading file. Takes time\n"
     ]
    }
   ],
   "source": [
    "matlab_filename = \"realitymining.mat\"\n",
    "print \"Loading file. Takes time\"\n",
    "matlab_obj = scipy.io.loadmat(matlab_filename)"
   ]
  },
  {
   "cell_type": "code",
   "execution_count": 4,
   "metadata": {
    "collapsed": false
   },
   "outputs": [],
   "source": [
    "friends = np.nan_to_num(matlab_obj['network']['friends'][0,0])\n",
    "subsortArray = matlab_obj['network']['sub_sort'][0][0][0]\n",
    "inlab = np.nan_to_num(matlab_obj['network']['lab'][0,0])\n",
    "outlab = np.nan_to_num(matlab_obj['network']['outlab'][0,0])"
   ]
  },
  {
   "cell_type": "code",
   "execution_count": 5,
   "metadata": {
    "collapsed": false
   },
   "outputs": [],
   "source": [
    "count = 0\n",
    "asym = []\n",
    "for i in range(0,94):\n",
    "    for j in range(i+1,94):\n",
    "        if friends[i,j]!=friends[j,i]:\n",
    "            count += 1\n",
    "            if friends[i,j] == 1:\n",
    "                asym.append([i,j])\n",
    "            else:\n",
    "                asym.append([j,i])\n",
    "no_asym = len(asym)\n",
    "# Asym contains indices. Aysm[i][0] is the index of the user that thinks of Asym[i][1] as a friend but Asym[i][1]\n",
    "# does not think of Asym[i][0] as a friend."
   ]
  },
  {
   "cell_type": "code",
   "execution_count": 5,
   "metadata": {
    "collapsed": false
   },
   "outputs": [
    {
     "name": "stdout",
     "output_type": "stream",
     "text": [
      "Time (in rating) spent together inlab by symmetric friends\n",
      "Average value = 3.178571\n",
      "Number of data point pairs = 28\n"
     ]
    }
   ],
   "source": [
    "#Time (in rating) spent together inlab by symmetric friends\n",
    "avg = 0\n",
    "count = 0\n",
    "for i in range(0,94):\n",
    "    for j in range(i+1,94):\n",
    "        if friends[i,j] == friends[j,i] and friends[i,j] == 1:\n",
    "            avg += (inlab[j,i]+inlab[i,j])/2\n",
    "            count += 1\n",
    "\n",
    "print \"Time (in rating) spent together inlab by symmetric friends\"            \n",
    "print \"Average value = %f\" %(avg/count)\n",
    "print \"Number of data point pairs = %d\" %count"
   ]
  },
  {
   "cell_type": "code",
   "execution_count": 6,
   "metadata": {
    "collapsed": false
   },
   "outputs": [
    {
     "name": "stdout",
     "output_type": "stream",
     "text": [
      "Time (in rating) spent together inlab by asymmetric friends\n",
      "Average value = 2.101852\n",
      "Number of data point pairs = 54\n"
     ]
    }
   ],
   "source": [
    "#Time (in rating) spent together inlab by asymmetric friends\n",
    "avg = 0 \n",
    "count = 0\n",
    "for i in range(0,no_asym):\n",
    "    avg += (inlab[asym[i][0],asym[i][1]]+inlab[asym[i][1],asym[i][0]])/2\n",
    "    count += 1\n",
    "print \"Time (in rating) spent together inlab by asymmetric friends\"            \n",
    "print \"Average value = %f\" %(avg/count)\n",
    "print \"Number of data point pairs = %d\" %count"
   ]
  },
  {
   "cell_type": "code",
   "execution_count": 7,
   "metadata": {
    "collapsed": false
   },
   "outputs": [
    {
     "name": "stdout",
     "output_type": "stream",
     "text": [
      "Time (in rating) spent together outlab by symmetric friends\n",
      "Average value = 3.250000\n",
      "Number of data point pairs = 28\n"
     ]
    }
   ],
   "source": [
    "#Time (in rating) spent together outlab by symmetric friends\n",
    "avg = 0\n",
    "count = 0\n",
    "for i in range(0,94):\n",
    "    for j in range(i+1,94):\n",
    "        if friends[i,j] == friends[j,i] and friends[i,j] == 1:\n",
    "            avg += (outlab[j,i]+outlab[i,j])/2\n",
    "            count += 1\n",
    "print \"Time (in rating) spent together outlab by symmetric friends\"            \n",
    "print \"Average value = %f\" %(avg/count)\n",
    "print \"Number of data point pairs = %d\" %count"
   ]
  },
  {
   "cell_type": "code",
   "execution_count": 8,
   "metadata": {
    "collapsed": false
   },
   "outputs": [
    {
     "name": "stdout",
     "output_type": "stream",
     "text": [
      "Time (in rating) spent together outlab by asymmetric friends\n",
      "Average value = 1.712963\n",
      "Number of data point pairs = 54\n"
     ]
    }
   ],
   "source": [
    "#Time (in rating) spent together outlab by asymmetric friends\n",
    "avg = 0 \n",
    "count = 0\n",
    "for i in range(0,no_asym):\n",
    "    avg += (outlab[asym[i][0],asym[i][1]]+outlab[asym[i][1],asym[i][0]])/2\n",
    "    count += 1\n",
    "print \"Time (in rating) spent together outlab by asymmetric friends\"            \n",
    "print \"Average value = %f\" %(avg/count)\n",
    "print \"Number of data point pairs = %d\" %count"
   ]
  },
  {
   "cell_type": "code",
   "execution_count": 7,
   "metadata": {
    "collapsed": false
   },
   "outputs": [
    {
     "name": "stdout",
     "output_type": "stream",
     "text": [
      "Difference in rating of the reported time together inlab for symmetric friends\n",
      "Average value = -0.357143\n",
      "Number of data point pairs = 28\n",
      "P - Value = 0.859770\n"
     ]
    }
   ],
   "source": [
    "# Difference in rating(0-5) of the reported time together in lab for symmetric friends\n",
    "mean = -0.357143 # has been previously calculated\n",
    "var = 0\n",
    "avg_diff = 0\n",
    "count = 0\n",
    "for i in range(0,94):\n",
    "    for j in range(i+1,94):\n",
    "        if friends[i,j] == friends[j,i] and friends[i,j] == 1:\n",
    "            avg_diff += inlab[j,i]-inlab[i,j]\n",
    "            var += np.power(inlab[j,i]-inlab[i,j]-mean,2)\n",
    "            count += 1\n",
    "\n",
    "var /= count\n",
    "z = abs(mean)/np.sqrt(var)\n",
    "p_values = scipy.stats.norm.sf(z)*2 #twosided\n",
    "print \"Difference in rating of the reported time together inlab for symmetric friends\"            \n",
    "print \"Average value = %f\" %(avg_diff/count)\n",
    "print \"Number of data point pairs = %d\" %count\n",
    "print \"P - Value = %f\" %p_values"
   ]
  },
  {
   "cell_type": "code",
   "execution_count": 10,
   "metadata": {
    "collapsed": false
   },
   "outputs": [
    {
     "name": "stdout",
     "output_type": "stream",
     "text": [
      "Difference in rating of the reported time together inlab for asymmetric friends\n",
      "Average value = 1.018519\n",
      "Number of data point pairs = 54\n",
      "P - Value = 0.677071\n"
     ]
    }
   ],
   "source": [
    "# Difference in rating(0-5) of the reported time together in lab for asymmetric friends . Like friend - Dislike friend \n",
    "mean = 1.01851851852 # has been previously calculated\n",
    "var = 0\n",
    "avg_diff = 0 \n",
    "count = 0\n",
    "for i in range(0,no_asym):\n",
    "    avg_diff += inlab[asym[i][0],asym[i][1]]-inlab[asym[i][1],asym[i][0]]\n",
    "    var += np.power(inlab[asym[i][0],asym[i][1]]-inlab[asym[i][1],asym[i][0]]-mean,2)\n",
    "    count += 1\n",
    "    \n",
    "var /= count\n",
    "z = mean/np.sqrt(var)\n",
    "p_values = scipy.stats.norm.sf(z)*2 #twosided\n",
    "print \"Difference in rating of the reported time together inlab for asymmetric friends\"            \n",
    "print \"Average value = %f\" %(avg_diff/count)\n",
    "print \"Number of data point pairs = %d\" %count\n",
    "print \"P - Value = %f\" %p_values"
   ]
  },
  {
   "cell_type": "code",
   "execution_count": 9,
   "metadata": {
    "collapsed": false
   },
   "outputs": [
    {
     "name": "stdout",
     "output_type": "stream",
     "text": [
      "Difference in rating of the reported time together outlab for symmetric friends\n",
      "Average value = -0.214286\n",
      "Number of data point pairs = 28\n",
      "P - Value = 0.911769\n"
     ]
    }
   ],
   "source": [
    "# Difference in rating(0-5) of the reported time together outlab for symmetric friends\n",
    "mean = -0.214286 # has been previously calculated\n",
    "var = 0\n",
    "avg_diff = 0\n",
    "count = 0\n",
    "for i in range(0,94):\n",
    "    for j in range(i+1,94):\n",
    "        if friends[i,j] == friends[j,i] and friends[i,j] == 1:\n",
    "            avg_diff += outlab[j,i]-outlab[i,j]\n",
    "            var += np.power(outlab[j,i]-outlab[i,j]-mean,2)\n",
    "            count += 1\n",
    "var /= count\n",
    "z = abs(mean)/np.sqrt(var)\n",
    "p_values = scipy.stats.norm.sf(z)*2 #twosided\n",
    "print \"Difference in rating of the reported time together outlab for symmetric friends\"            \n",
    "print \"Average value = %f\" %(avg_diff/count)\n",
    "print \"Number of data point pairs = %d\" %count\n",
    "print \"P - Value = %f\" %p_values"
   ]
  },
  {
   "cell_type": "code",
   "execution_count": 12,
   "metadata": {
    "collapsed": false
   },
   "outputs": [
    {
     "name": "stdout",
     "output_type": "stream",
     "text": [
      "Difference in rating of the reported time together outlab for asymmetric friends\n",
      "Average value = 1.648148\n",
      "Number of data point pairs = 54\n",
      "P - Value = 0.382474\n"
     ]
    }
   ],
   "source": [
    "# Difference in rating(0-5) of the reported time together in lab for asymmetric friends . Like friend - Dislike friend \n",
    "mean = 1.64814814815 # has been previously calculated\n",
    "var = 0\n",
    "avg_diff = 0 \n",
    "count = 0\n",
    "for i in range(0,no_asym):\n",
    "    \n",
    "    avg_diff += outlab[asym[i][0],asym[i][1]]-outlab[asym[i][1],asym[i][0]]\n",
    "    var += np.power(outlab[asym[i][0],asym[i][1]]-outlab[asym[i][1],asym[i][0]]-mean,2)\n",
    "    count += 1\n",
    "var /= count\n",
    "z = mean/np.sqrt(var)\n",
    "p_values = scipy.stats.norm.sf(z)*2 #twosided\n",
    "print \"Difference in rating of the reported time together outlab for asymmetric friends\"            \n",
    "print \"Average value = %f\" %(avg_diff/count)\n",
    "print \"Number of data point pairs = %d\" %count\n",
    "print \"P - Value = %f\" %p_values"
   ]
  },
  {
   "cell_type": "code",
   "execution_count": 5,
   "metadata": {
    "collapsed": false
   },
   "outputs": [
    {
     "name": "stdout",
     "output_type": "stream",
     "text": [
      "[[1, 4], [1, 5], [1, 10], [76, 1], [91, 1], [19, 2], [83, 2], [3, 18], [59, 4], [76, 4], [19, 5], [76, 5], [9, 7], [7, 22], [59, 7], [9, 78], [9, 91], [37, 11], [11, 50], [56, 14], [19, 49], [84, 20], [55, 24], [59, 24], [27, 87], [59, 30], [33, 32], [35, 58], [35, 85], [37, 50], [37, 84], [37, 85], [62, 39], [72, 39], [82, 39], [40, 60], [40, 72], [68, 42], [69, 42], [45, 84], [63, 48], [72, 54], [58, 85], [59, 71], [59, 79], [60, 64], [62, 64], [68, 64], [69, 64], [72, 82], [88, 77], [88, 78], [84, 85], [89, 90]]\n"
     ]
    }
   ],
   "source": [
    "f = open(\"asym_index.txt\",'aw')\n",
    "for i in range(0,len(asym)):\n",
    "    f.write(str(asym[i][0]) + ' ' + str(asym[i][1]) + '\\n')\n",
    "f.close()\n",
    "print asym"
   ]
  }
 ],
 "metadata": {
  "anaconda-cloud": {},
  "kernelspec": {
   "display_name": "Python [conda env:hcc]",
   "language": "python",
   "name": "conda-env-hcc-py"
  },
  "language_info": {
   "codemirror_mode": {
    "name": "ipython",
    "version": 2
   },
   "file_extension": ".py",
   "mimetype": "text/x-python",
   "name": "python",
   "nbconvert_exporter": "python",
   "pygments_lexer": "ipython2",
   "version": "2.7.13"
  }
 },
 "nbformat": 4,
 "nbformat_minor": 2
}
