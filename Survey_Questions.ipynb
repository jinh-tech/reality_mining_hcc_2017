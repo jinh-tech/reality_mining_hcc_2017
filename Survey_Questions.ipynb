{
 "cells": [
  {
   "cell_type": "code",
   "execution_count": 6,
   "metadata": {
    "collapsed": false
   },
   "outputs": [],
   "source": [
    "import scipy.io\n",
    "import numpy as np\n",
    "import scipy.stats"
   ]
  },
  {
   "cell_type": "code",
   "execution_count": 2,
   "metadata": {
    "collapsed": false
   },
   "outputs": [
    {
     "name": "stdout",
     "output_type": "stream",
     "text": [
      "Loading file. Takes time\n"
     ]
    }
   ],
   "source": [
    "matlab_filename = \"realitymining.mat\"\n",
    "print \"Loading file. Takes time\"\n",
    "matlab_obj = scipy.io.loadmat(matlab_filename)"
   ]
  },
  {
   "cell_type": "code",
   "execution_count": 12,
   "metadata": {
    "collapsed": false
   },
   "outputs": [],
   "source": [
    "friends = np.nan_to_num(matlab_obj['network']['friends'][0,0])\n",
    "subsortArray = matlab_obj['network']['sub_sort'][0][0][0]\n",
    "inlab = np.nan_to_num(matlab_obj['network']['lab'][0,0])\n",
    "outlab = np.nan_to_num(matlab_obj['network']['outlab'][0,0])"
   ]
  },
  {
   "cell_type": "code",
   "execution_count": 13,
   "metadata": {
    "collapsed": false
   },
   "outputs": [],
   "source": [
    "count = 0\n",
    "asym = []\n",
    "for i in range(0,94):\n",
    "    for j in range(i+1,94):\n",
    "        if friends[i,j]!=friends[j,i]:\n",
    "            count += 1\n",
    "            if friends[i,j] == 1:\n",
    "                asym.append([i,j])\n",
    "            else:\n",
    "                asym.append([j,i])\n",
    "no_asym = len(asym)\n",
    "# Asym contains indices. Aysm[i][0] is the index of the user that thinks of Asym[i][1] as a friend but Asym[i][1]\n",
    "# does not think of Asym[i][0] as a friend."
   ]
  },
  {
   "cell_type": "code",
   "execution_count": 22,
   "metadata": {
    "collapsed": false
   },
   "outputs": [
    {
     "name": "stdout",
     "output_type": "stream",
     "text": [
      "Time (in rating) spent together inlab by friends\n",
      "Average value = 3.178571\n",
      "Number of data point pairs = 28\n"
     ]
    }
   ],
   "source": [
    "#Time (in rating) spent together inlab by symmetric friends\n",
    "avg = 0\n",
    "count = 0\n",
    "for i in range(0,94):\n",
    "    for j in range(i+1,94):\n",
    "        if friends[i,j] == friends[j,i] and friends[i,j] == 1:\n",
    "            avg += (inlab[j,i]+inlab[i,j])/2\n",
    "            count += 1\n",
    "\n",
    "print \"Time (in rating) spent together inlab by symmetric friends\"            \n",
    "print \"Average value = %f\" %(avg/count)\n",
    "print \"Number of data point pairs = %d\" %count"
   ]
  },
  {
   "cell_type": "code",
   "execution_count": 23,
   "metadata": {
    "collapsed": false
   },
   "outputs": [
    {
     "name": "stdout",
     "output_type": "stream",
     "text": [
      "Time (in rating) spent together inlab by asymmetric friends\n",
      "Average value = 2.101852\n",
      "Number of data point pairs = 54\n"
     ]
    }
   ],
   "source": [
    "#Time (in rating) spent together inlab by asymmetric friends\n",
    "avg = 0 \n",
    "count = 0\n",
    "for i in range(0,no_asym):\n",
    "    avg += (inlab[asym[i][0],asym[i][1]]+inlab[asym[i][1],asym[i][0]])/2\n",
    "    count += 1\n",
    "print \"Time (in rating) spent together inlab by asymmetric friends\"            \n",
    "print \"Average value = %f\" %(avg/count)\n",
    "print \"Number of data point pairs = %d\" %count"
   ]
  },
  {
   "cell_type": "code",
   "execution_count": 24,
   "metadata": {
    "collapsed": false
   },
   "outputs": [
    {
     "name": "stdout",
     "output_type": "stream",
     "text": [
      "Time (in rating) spent together outlab by symmetric friends\n",
      "Average value = 3.250000\n",
      "Number of data point pairs = 28\n"
     ]
    }
   ],
   "source": [
    "#Time (in rating) spent together outlab by symmetric friends\n",
    "avg = 0\n",
    "count = 0\n",
    "for i in range(0,94):\n",
    "    for j in range(i+1,94):\n",
    "        if friends[i,j] == friends[j,i] and friends[i,j] == 1:\n",
    "            avg += (outlab[j,i]+outlab[i,j])/2\n",
    "            count += 1\n",
    "print \"Time (in rating) spent together outlab by symmetric friends\"            \n",
    "print \"Average value = %f\" %(avg/count)\n",
    "print \"Number of data point pairs = %d\" %count"
   ]
  },
  {
   "cell_type": "code",
   "execution_count": 25,
   "metadata": {
    "collapsed": false
   },
   "outputs": [
    {
     "name": "stdout",
     "output_type": "stream",
     "text": [
      "Time (in rating) spent together outlab by asymmetric friends\n",
      "Average value = 1.712963\n",
      "Number of data point pairs = 54\n"
     ]
    }
   ],
   "source": [
    "#Time (in rating) spent together outlab by asymmetric friends\n",
    "avg = 0 \n",
    "count = 0\n",
    "for i in range(0,no_asym):\n",
    "    avg += (outlab[asym[i][0],asym[i][1]]+outlab[asym[i][1],asym[i][0]])/2\n",
    "    count += 1\n",
    "print \"Time (in rating) spent together outlab by asymmetric friends\"            \n",
    "print \"Average value = %f\" %(avg/count)\n",
    "print \"Number of data point pairs = %d\" %count"
   ]
  },
  {
   "cell_type": "code",
   "execution_count": 27,
   "metadata": {
    "collapsed": false
   },
   "outputs": [
    {
     "name": "stdout",
     "output_type": "stream",
     "text": [
      "Difference in rating of the reported time together inlab for symmetric friends\n",
      "Average value = 1.214286\n",
      "Number of data point pairs = 28\n",
      "P - Value = 0.635329\n"
     ]
    }
   ],
   "source": [
    "# Difference in rating(0-5) of the reported time together in lab for symmetric friends\n",
    "mean = 1.21428571429 # has been previously calculated\n",
    "var = 0\n",
    "avg_diff = 0\n",
    "count = 0\n",
    "for i in range(0,94):\n",
    "    for j in range(i+1,94):\n",
    "        if friends[i,j] == friends[j,i] and friends[i,j] == 1:\n",
    "            avg_diff += abs(inlab[j,i]-inlab[i,j])\n",
    "            var += np.power(inlab[j,i]-inlab[i,j]-mean,2)\n",
    "            count += 1\n",
    "\n",
    "var /= count\n",
    "z = mean/np.sqrt(var)\n",
    "p_values = scipy.stats.norm.sf(z)*2 #twosided\n",
    "print \"Difference in rating of the reported time together inlab for symmetric friends\"            \n",
    "print \"Average value = %f\" %(avg_diff/count)\n",
    "print \"Number of data point pairs = %d\" %count\n",
    "print \"P - Value = %f\" %p_values"
   ]
  },
  {
   "cell_type": "code",
   "execution_count": 29,
   "metadata": {
    "collapsed": false
   },
   "outputs": [
    {
     "name": "stdout",
     "output_type": "stream",
     "text": [
      "Difference in rating of the reported time together inlab for asymmetric friends\n",
      "Average value = 1.018519\n",
      "Number of data point pairs = 54\n",
      "P - Value = 0.677071\n"
     ]
    }
   ],
   "source": [
    "# Difference in rating(0-5) of the reported time together in lab for asymmetric friends . Like friend - Dislike friend \n",
    "mean = 1.01851851852 # has been previously calculated\n",
    "var = 0\n",
    "avg_diff = 0 \n",
    "count = 0\n",
    "for i in range(0,no_asym):\n",
    "    avg_diff += inlab[asym[i][0],asym[i][1]]-inlab[asym[i][1],asym[i][0]]\n",
    "    var += np.power(inlab[asym[i][0],asym[i][1]]-inlab[asym[i][1],asym[i][0]]-mean,2)\n",
    "    count += 1\n",
    "    \n",
    "var /= count\n",
    "z = mean/np.sqrt(var)\n",
    "p_values = scipy.stats.norm.sf(z)*2 #twosided\n",
    "print \"Difference in rating of the reported time together inlab for asymmetric friends\"            \n",
    "print \"Average value = %f\" %(avg_diff/count)\n",
    "print \"Number of data point pairs = %d\" %count\n",
    "print \"P - Value = %f\" %p_values"
   ]
  },
  {
   "cell_type": "code",
   "execution_count": 30,
   "metadata": {
    "collapsed": false
   },
   "outputs": [
    {
     "name": "stdout",
     "output_type": "stream",
     "text": [
      "Difference in rating of the reported time together inlab for asymmetric friends\n",
      "Average value = 1.214286\n",
      "Number of data point pairs = 28\n",
      "P - Value = 0.613524\n"
     ]
    }
   ],
   "source": [
    "# Difference in rating(0-5) of the reported time together outlab for symmetric friends\n",
    "mean = 1.21428571429 # has been previously calculated\n",
    "var = 0\n",
    "avg_diff = 0\n",
    "count = 0\n",
    "for i in range(0,94):\n",
    "    for j in range(i+1,94):\n",
    "        if friends[i,j] == friends[j,i] and friends[i,j] == 1:\n",
    "            avg_diff += abs(outlab[j,i]-outlab[i,j])\n",
    "            var += np.power(outlab[j,i]-outlab[i,j]-mean,2)\n",
    "            count += 1\n",
    "var /= count\n",
    "z = mean/np.sqrt(var)\n",
    "p_values = scipy.stats.norm.sf(z)*2 #twosided\n",
    "print \"Difference in rating of the reported time together outlab for symmetric friends\"            \n",
    "print \"Average value = %f\" %(avg_diff/count)\n",
    "print \"Number of data point pairs = %d\" %count\n",
    "print \"P - Value = %f\" %p_values"
   ]
  },
  {
   "cell_type": "code",
   "execution_count": 31,
   "metadata": {
    "collapsed": false
   },
   "outputs": [
    {
     "name": "stdout",
     "output_type": "stream",
     "text": [
      "Difference in rating of the reported time together outlab for asymmetric friends\n",
      "Average value = 1.648148\n",
      "Number of data point pairs = 54\n",
      "P - Value = 0.382474\n"
     ]
    }
   ],
   "source": [
    "# Difference in rating(0-5) of the reported time together in lab for asymmetric friends . Like friend - Dislike friend \n",
    "mean = 1.64814814815 # has been previously calculated\n",
    "var = 0\n",
    "avg_diff = 0 \n",
    "count = 0\n",
    "for i in range(0,no_asym):\n",
    "    \n",
    "    avg_diff += outlab[asym[i][0],asym[i][1]]-outlab[asym[i][1],asym[i][0]]\n",
    "    var += np.power(outlab[asym[i][0],asym[i][1]]-outlab[asym[i][1],asym[i][0]]-mean,2)\n",
    "    count += 1\n",
    "var /= count\n",
    "z = mean/np.sqrt(var)\n",
    "p_values = scipy.stats.norm.sf(z)*2 #twosided\n",
    "print \"Difference in rating of the reported time together outlab for asymmetric friends\"            \n",
    "print \"Average value = %f\" %(avg_diff/count)\n",
    "print \"Number of data point pairs = %d\" %count\n",
    "print \"P - Value = %f\" %p_values"
   ]
  }
 ],
 "metadata": {
  "kernelspec": {
   "display_name": "Python [conda env:hcc]",
   "language": "python",
   "name": "conda-env-hcc-py"
  },
  "language_info": {
   "codemirror_mode": {
    "name": "ipython",
    "version": 2
   },
   "file_extension": ".py",
   "mimetype": "text/x-python",
   "name": "python",
   "nbconvert_exporter": "python",
   "pygments_lexer": "ipython2",
   "version": "2.7.13"
  }
 },
 "nbformat": 4,
 "nbformat_minor": 2
}
